{
 "cells": [
  {
   "cell_type": "code",
   "execution_count": 3,
   "metadata": {},
   "outputs": [
    {
     "name": "stdout",
     "output_type": "stream",
     "text": [
      "Moved yourfile.txt from C:/MASoiC to C:/MASoiC/environment\n"
     ]
    }
   ],
   "source": [
    "#####################################\n",
    "### Organize Files in the Folders ###\n",
    "#####################################\n",
    "# Import the os and shutil modules\n",
    "import os\n",
    "import shutil\n",
    "\n",
    "# Define the source and destination folders\n",
    "#source = \"Download\"\n",
    "source = \"C:/MASoiC\"\n",
    "#destination = \"Temp\"\n",
    "destination = \"C:/MASoiC/environment\"\n",
    "\n",
    "# Loop through the files in the source folder\n",
    "for file in os.listdir(source):\n",
    "    # Get the full path of the file\n",
    "    file_path = os.path.join(source, file)\n",
    "    # Check if the file is a regular file (not a directory or a link)\n",
    "    if os.path.isfile(file_path):\n",
    "        # Move the file to the destination folder\n",
    "        shutil.move(file_path, destination)\n",
    "        # Print a message to confirm the move\n",
    "        print(f\"Moved {file} from {source} to {destination}\")\n"
   ]
  },
  {
   "cell_type": "code",
   "execution_count": null,
   "metadata": {},
   "outputs": [],
   "source": []
  }
 ],
 "metadata": {
  "kernelspec": {
   "display_name": "Python 3",
   "language": "python",
   "name": "python3"
  },
  "language_info": {
   "codemirror_mode": {
    "name": "ipython",
    "version": 3
   },
   "file_extension": ".py",
   "mimetype": "text/x-python",
   "name": "python",
   "nbconvert_exporter": "python",
   "pygments_lexer": "ipython3",
   "version": "3.8.5"
  }
 },
 "nbformat": 4,
 "nbformat_minor": 4
}
