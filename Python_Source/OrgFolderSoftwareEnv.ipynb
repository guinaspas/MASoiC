{
 "cells": [
  {
   "cell_type": "code",
   "execution_count": 7,
   "metadata": {},
   "outputs": [
    {
     "name": "stdout",
     "output_type": "stream",
     "text": [
      "Directory 'MASoiC' created\n",
      "Directory 'environment' created\n",
      "Directory 'input' created\n",
      "Directory 'output' created\n",
      "Directory 'processed' created\n"
     ]
    }
   ],
   "source": [
    "########################################################\n",
    "### Code to Organizer folder to software environment ###\n",
    "########################################################\n",
    "\n",
    "import os\n",
    "\n",
    "directory = \"MASoiC\"\n",
    "#parent_dir = \"C:/Users/thais/Downloads\"\n",
    "#parent_dir = \"C:/Users\" # No Permition\n",
    "parent_dir = \"C:/\"\n",
    "path = os.path.join(parent_dir, directory)\n",
    "\n",
    "os.mkdir(path)\n",
    "\n",
    "print(\"Directory '% s' created\"% directory)\n",
    "\n",
    "isExist = os.path.exists(path)\n",
    "\n",
    "if not isExist:\n",
    "    print(\"Please check your access because the Directory '% s' Not created\"% directory)\n",
    "    \n",
    "#if not isExist:\n",
    "if isExist:\n",
    "    ## Create a ENVIRONMENT directory\n",
    "    directory1 = \"environment\"\n",
    "    #parent_dir1 = \"C:/Users/thais/Downloads/MASoiC\"\n",
    "    #parent_dir1 = \"C:/Users/MASoiC\"\n",
    "    parent_dir1 = \"C:/MASoiC\"\n",
    "    path1 = os.path.join(parent_dir1, directory1)\n",
    "    os.mkdir(path1)\n",
    "    print(\"Directory '% s' created\"% directory1)\n",
    "\n",
    "    ## Create a INPUT directory\n",
    "    directory2 = \"input\"\n",
    "    #parent_dir2 = \"C:/Users/thais/Downloads/MASoiC\"\n",
    "    #parent_dir2 = \"C:/Users/MASoiC\"\n",
    "    parent_dir2 = \"C:/MASoiC\"\n",
    "    path2 = os.path.join(parent_dir2, directory2)\n",
    "    os.mkdir(path2)\n",
    "    print(\"Directory '% s' created\"% directory2)\n",
    "\n",
    "    ## Create a OUTPUT directory\n",
    "    directory3 = \"output\"\n",
    "    #parent_dir3 = \"C:/Users/thais/Downloads/MASoiC\"\n",
    "    #parent_dir3 = \"C:/Users/MASoiC\"\n",
    "    parent_dir3 = \"C:/MASoiC\"\n",
    "    path3 = os.path.join(parent_dir3, directory3)\n",
    "    os.mkdir(path3)\n",
    "    print(\"Directory '% s' created\"% directory3)\n",
    "    \n",
    "    ## Create a PROCESSED directory\n",
    "    directory4 = \"processed\"\n",
    "    #parent_dir4 = \"C:/Users/thais/Downloads/MASoiC\"\n",
    "    #parent_dir4 = \"C:/Users/MASoiC\"\n",
    "    parent_dir4 = \"C:/MASoiC\"\n",
    "    path4 = os.path.join(parent_dir4, directory4)\n",
    "    os.mkdir(path4)\n",
    "    print(\"Directory '% s' created\"% directory4)\n",
    "\n"
   ]
  },
  {
   "cell_type": "code",
   "execution_count": null,
   "metadata": {},
   "outputs": [],
   "source": []
  }
 ],
 "metadata": {
  "kernelspec": {
   "display_name": "Python 3",
   "language": "python",
   "name": "python3"
  },
  "language_info": {
   "codemirror_mode": {
    "name": "ipython",
    "version": 3
   },
   "file_extension": ".py",
   "mimetype": "text/x-python",
   "name": "python",
   "nbconvert_exporter": "python",
   "pygments_lexer": "ipython3",
   "version": "3.8.5"
  }
 },
 "nbformat": 4,
 "nbformat_minor": 4
}
